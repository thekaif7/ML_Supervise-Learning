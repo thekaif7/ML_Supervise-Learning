{
 "cells": [
  {
   "cell_type": "code",
   "execution_count": 6,
   "metadata": {},
   "outputs": [],
   "source": [
    "#importing dataset\n",
    "from  sklearn.datasets import load_iris\n",
    "data_iris =load_iris()"
   ]
  },
  {
   "cell_type": "code",
   "execution_count": 7,
   "metadata": {},
   "outputs": [
    {
     "name": "stdout",
     "output_type": "stream",
     "text": [
      "iris data keys : dict_keys(['data', 'target', 'target_names', 'DESCR', 'feature_names', 'filename'])\n"
     ]
    }
   ],
   "source": [
    "#keys of data\n",
    "print(f'iris data keys : {data_iris.keys()}')"
   ]
  },
  {
   "cell_type": "code",
   "execution_count": 8,
   "metadata": {},
   "outputs": [
    {
     "name": "stdout",
     "output_type": "stream",
     "text": [
      "Features names : ['sepal length (cm)', 'sepal width (cm)', 'petal length (cm)', 'petal width (cm)']\n",
      "Target names : ['setosa' 'versicolor' 'virginica']\n",
      "Dimension of data in row & column : (150, 4)\n"
     ]
    }
   ],
   "source": [
    "print(f'Features names : {data_iris.feature_names}')\n",
    "print(f'Target names : {data_iris.target_names}')\n",
    "print(f\"Dimension of data in row & column : {data_iris['data'].shape}\")\n"
   ]
  },
  {
   "cell_type": "code",
   "execution_count": 9,
   "metadata": {},
   "outputs": [
    {
     "name": "stdout",
     "output_type": "stream",
     "text": [
      "Train dataset Dimension : (112, 4)\n",
      "Test dataset Dimension : (38, 4)\n"
     ]
    }
   ],
   "source": [
    "#splitting the train and test set from data 75% for train set and 25% for test set \n",
    "from sklearn.model_selection import train_test_split\n",
    "\n",
    "X_train , X_test , y_train , y_test = train_test_split(data_iris[\"data\"],data_iris[\"target\"], random_state = 0)\n",
    "\n",
    "print(f\"Train dataset Dimension : {X_train.shape}\")\n",
    "print(f\"Test dataset Dimension : {X_test.shape}\")"
   ]
  },
  {
   "cell_type": "code",
   "execution_count": 10,
   "metadata": {},
   "outputs": [
    {
     "data": {
      "text/plain": [
       "KNeighborsClassifier(algorithm='auto', leaf_size=30, metric='minkowski',\n",
       "           metric_params=None, n_jobs=None, n_neighbors=1, p=2,\n",
       "           weights='uniform')"
      ]
     },
     "execution_count": 10,
     "metadata": {},
     "output_type": "execute_result"
    }
   ],
   "source": [
    "# Let's get hand dirty on Ml Model\n",
    "from sklearn.neighbors import KNeighborsClassifier\n",
    "knn = KNeighborsClassifier(n_neighbors=1)\n",
    "#fitting the dataset or train the model\n",
    "knn.fit(X_train ,y_train)"
   ]
  },
  {
   "cell_type": "code",
   "execution_count": 11,
   "metadata": {},
   "outputs": [
    {
     "name": "stdout",
     "output_type": "stream",
     "text": [
      "X_new.shape: (1, 4)\n",
      "Prediction Of new data : [0] \n",
      "Name of Flower : ['setosa']\n"
     ]
    }
   ],
   "source": [
    "import numpy as np\n",
    "\n",
    "#predict new data\n",
    "\n",
    "X_new = np.array([[5, 2.9, 1, 0.2]]) \n",
    "print(\"X_new.shape: {}\".format(X_new.shape))\n",
    "\n",
    "predict  = knn.predict(X_new)\n",
    "print(f\"Prediction Of new data : {predict} \")\n",
    "print(f\"Name of Flower : {data_iris['target_names'][predict]}\")"
   ]
  },
  {
   "cell_type": "code",
   "execution_count": 12,
   "metadata": {},
   "outputs": [
    {
     "name": "stdout",
     "output_type": "stream",
     "text": [
      "y_pred : [2 1 0 2 0 2 0 1 1 1 2 1 1 1 1 0 1 1 0 0 2 1 0 0 2 0 0 1 1 0 2 1 0 2 2 1 0\n",
      " 2]\n",
      "virginica versicolor setosa virginica setosa virginica setosa versicolor versicolor versicolor virginica versicolor versicolor versicolor versicolor setosa versicolor versicolor setosa setosa virginica versicolor setosa setosa virginica setosa setosa versicolor versicolor setosa virginica versicolor setosa virginica virginica versicolor setosa virginica "
     ]
    }
   ],
   "source": [
    "#test the model\n",
    "y_pred = knn.predict(X_test)\n",
    "print(f\"y_pred : {y_pred}\")\n",
    "for i in y_pred:\n",
    "    print(data_iris['target_names'][i],end=\" \")"
   ]
  },
  {
   "cell_type": "code",
   "execution_count": 14,
   "metadata": {},
   "outputs": [
    {
     "name": "stdout",
     "output_type": "stream",
     "text": [
      "Test scored : 97.4 %,\n"
     ]
    }
   ],
   "source": [
    "#Accuracy \n",
    "print(f\"Test scored : {round(((knn.score(X_test,y_test))*100),1)} %,\")"
   ]
  },
  {
   "cell_type": "code",
   "execution_count": null,
   "metadata": {},
   "outputs": [],
   "source": []
  }
 ],
 "metadata": {
  "kernelspec": {
   "display_name": "Python 3",
   "language": "python",
   "name": "python3"
  },
  "language_info": {
   "codemirror_mode": {
    "name": "ipython",
    "version": 3
   },
   "file_extension": ".py",
   "mimetype": "text/x-python",
   "name": "python",
   "nbconvert_exporter": "python",
   "pygments_lexer": "ipython3",
   "version": "3.7.3"
  }
 },
 "nbformat": 4,
 "nbformat_minor": 2
}
